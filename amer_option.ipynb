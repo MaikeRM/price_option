{
 "cells": [
  {
   "cell_type": "code",
   "execution_count": 44,
   "source": [
    "# valuing an American option\r\n",
    "\r\n",
    "from QuantLib import *\r\n",
    "\r\n",
    "valuation_date = Date(1, 9, 2021)\r\n",
    "Settings.instance().evaluationDate = valuation_date+2\r\n",
    "\r\n",
    "calendar = Brazil()\r\n",
    "volatility = 40.66/100\r\n",
    "day_count = Actual365Fixed()"
   ],
   "outputs": [],
   "metadata": {}
  },
  {
   "cell_type": "code",
   "execution_count": 45,
   "source": [
    "underlying = 98.85\r\n",
    "risk_free_rate = 5.25/100\r\n",
    "dividend_rate = 0.000001\r\n"
   ],
   "outputs": [],
   "metadata": {}
  },
  {
   "cell_type": "code",
   "execution_count": 46,
   "source": [
    "exercise_date = Date(17, 9, 2021)\r\n",
    "strike = 103.67\r\n",
    "option_type = Option.Put"
   ],
   "outputs": [],
   "metadata": {}
  },
  {
   "cell_type": "code",
   "execution_count": 47,
   "source": [
    "payoff = PlainVanillaPayoff(option_type, strike)\r\n",
    "exercise = EuropeanExercise(exercise_date)\r\n",
    "european_option = VanillaOption(payoff, exercise)\r\n",
    "\r\n",
    "spot_handle = QuoteHandle(SimpleQuote(underlying))\r\n",
    "\r\n",
    "flat_ts = YieldTermStructureHandle(FlatForward(valuation_date,risk_free_rate,day_count))\r\n",
    "dividend_yield = YieldTermStructureHandle(FlatForward(valuation_date,dividend_rate,day_count))\r\n",
    "flat_vol_ts = BlackVolTermStructureHandle(BlackConstantVol(valuation_date,calendar,volatility,day_count))\r\n",
    "bsm_process = BlackScholesMertonProcess(spot_handle,dividend_yield,flat_ts,flat_vol_ts)"
   ],
   "outputs": [],
   "metadata": {}
  },
  {
   "cell_type": "code",
   "execution_count": 48,
   "source": [
    "# European option\r\n",
    "european_option.setPricingEngine(AnalyticEuropeanEngine(bsm_process))\r\n",
    "bs_price = european_option.NPV()\r\n",
    "print(\"European option price is \", bs_price)"
   ],
   "outputs": [
    {
     "output_type": "stream",
     "name": "stdout",
     "text": [
      "European option price is  6.19952999786285\n"
     ]
    }
   ],
   "metadata": {}
  },
  {
   "cell_type": "code",
   "execution_count": 49,
   "source": [
    "# American option\r\n",
    "binomial_engine = BinomialVanillaEngine(bsm_process, \"crr\", 50)\r\n",
    "am_exercise = AmericanExercise(valuation_date, exercise_date)\r\n",
    "american_option = VanillaOption(payoff, am_exercise)\r\n",
    "american_option.setPricingEngine(binomial_engine)\r\n",
    "crr_price = american_option.NPV()\r\n",
    "print(\"American option price is \", crr_price)"
   ],
   "outputs": [
    {
     "output_type": "stream",
     "name": "stdout",
     "text": [
      "American option price is  6.222356739710464\n"
     ]
    }
   ],
   "metadata": {}
  },
  {
   "cell_type": "code",
   "execution_count": null,
   "source": [],
   "outputs": [],
   "metadata": {}
  }
 ],
 "metadata": {
  "orig_nbformat": 4,
  "language_info": {
   "name": "python",
   "version": "3.8.8",
   "mimetype": "text/x-python",
   "codemirror_mode": {
    "name": "ipython",
    "version": 3
   },
   "pygments_lexer": "ipython3",
   "nbconvert_exporter": "python",
   "file_extension": ".py"
  },
  "kernelspec": {
   "name": "python3",
   "display_name": "Python 3.8.8 64-bit ('base': conda)"
  },
  "interpreter": {
   "hash": "2a89ebda5b1df6869a80ed231ce3cbd82800ba4c96516904a7ea152290f5b260"
  }
 },
 "nbformat": 4,
 "nbformat_minor": 2
}